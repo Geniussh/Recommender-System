{
 "cells": [
  {
   "cell_type": "code",
   "execution_count": 2,
   "metadata": {},
   "outputs": [],
   "source": [
    "import matplotlib.pyplot as plt\n",
    "import json\n",
    "import numpy as np\n",
    "import random\n",
    "import string\n",
    "from collections import defaultdict\n",
    "from nltk.stem.porter import PorterStemmer\n",
    "from nltk.corpus import stopwords\n",
    "from sklearn import linear_model\n",
    "import gzip\n",
    "import json\n",
    "import csv\n",
    "import pandas as pd\n",
    "from sklearn.feature_extraction.text import TfidfVectorizer\n",
    "from sklearn.feature_extraction.text import TfidfTransformer\n",
    "from sklearn.svm import LinearSVC\n",
    "from tqdm import tqdm"
   ]
  },
  {
   "cell_type": "code",
   "execution_count": 3,
   "metadata": {},
   "outputs": [],
   "source": [
    "def parseData(path):\n",
    "    for l in gzip.open(path, 'rt', encoding=\"utf8\"):\n",
    "        yield eval(l)"
   ]
  },
  {
   "cell_type": "code",
   "execution_count": 4,
   "metadata": {},
   "outputs": [],
   "source": [
    "dataset = list(parseData(\"train_Category.json.gz\"))"
   ]
  },
  {
   "cell_type": "code",
   "execution_count": 23,
   "metadata": {},
   "outputs": [],
   "source": [
    "original_df = pd.DataFrame(dataset)"
   ]
  },
  {
   "cell_type": "code",
   "execution_count": 6,
   "metadata": {},
   "outputs": [
    {
     "data": {
      "text/html": [
       "<div>\n",
       "<style scoped>\n",
       "    .dataframe tbody tr th:only-of-type {\n",
       "        vertical-align: middle;\n",
       "    }\n",
       "\n",
       "    .dataframe tbody tr th {\n",
       "        vertical-align: top;\n",
       "    }\n",
       "\n",
       "    .dataframe thead th {\n",
       "        text-align: right;\n",
       "    }\n",
       "</style>\n",
       "<table border=\"1\" class=\"dataframe\">\n",
       "  <thead>\n",
       "    <tr style=\"text-align: right;\">\n",
       "      <th></th>\n",
       "      <th>userID</th>\n",
       "      <th>genre</th>\n",
       "      <th>early_access</th>\n",
       "      <th>reviewID</th>\n",
       "      <th>hours</th>\n",
       "      <th>text</th>\n",
       "      <th>genreID</th>\n",
       "      <th>date</th>\n",
       "      <th>found_funny</th>\n",
       "      <th>user_id</th>\n",
       "      <th>compensation</th>\n",
       "    </tr>\n",
       "  </thead>\n",
       "  <tbody>\n",
       "    <tr>\n",
       "      <th>0</th>\n",
       "      <td>u74382925</td>\n",
       "      <td>Adventure</td>\n",
       "      <td>False</td>\n",
       "      <td>r75487422</td>\n",
       "      <td>4.1</td>\n",
       "      <td>Short Review:\\nA good starting chapter for thi...</td>\n",
       "      <td>3</td>\n",
       "      <td>2014-02-07</td>\n",
       "      <td>NaN</td>\n",
       "      <td>NaN</td>\n",
       "      <td>NaN</td>\n",
       "    </tr>\n",
       "    <tr>\n",
       "      <th>1</th>\n",
       "      <td>u76283959</td>\n",
       "      <td>Strategy</td>\n",
       "      <td>True</td>\n",
       "      <td>r47002764</td>\n",
       "      <td>235.1</td>\n",
       "      <td>I think this is on my top 3 favirote TCGs of a...</td>\n",
       "      <td>1</td>\n",
       "      <td>2017-05-04</td>\n",
       "      <td>NaN</td>\n",
       "      <td>NaN</td>\n",
       "      <td>NaN</td>\n",
       "    </tr>\n",
       "    <tr>\n",
       "      <th>2</th>\n",
       "      <td>u27203184</td>\n",
       "      <td>Action</td>\n",
       "      <td>False</td>\n",
       "      <td>r63957768</td>\n",
       "      <td>11.6</td>\n",
       "      <td>This is 10% suck\\n20% skill\\n15% concentrated ...</td>\n",
       "      <td>0</td>\n",
       "      <td>2015-12-30</td>\n",
       "      <td>794.0</td>\n",
       "      <td>NaN</td>\n",
       "      <td>NaN</td>\n",
       "    </tr>\n",
       "    <tr>\n",
       "      <th>3</th>\n",
       "      <td>u39188474</td>\n",
       "      <td>Adventure</td>\n",
       "      <td>False</td>\n",
       "      <td>r78559045</td>\n",
       "      <td>18.9</td>\n",
       "      <td>This game is realy realy nice to play. it's hi...</td>\n",
       "      <td>3</td>\n",
       "      <td>2015-07-19</td>\n",
       "      <td>1.0</td>\n",
       "      <td>NaN</td>\n",
       "      <td>NaN</td>\n",
       "    </tr>\n",
       "    <tr>\n",
       "      <th>4</th>\n",
       "      <td>u00273970</td>\n",
       "      <td>Action</td>\n",
       "      <td>False</td>\n",
       "      <td>r87488647</td>\n",
       "      <td>229.5</td>\n",
       "      <td>Los fans del erizo azul lo pidieron y aqui est...</td>\n",
       "      <td>0</td>\n",
       "      <td>2016-01-09</td>\n",
       "      <td>NaN</td>\n",
       "      <td>NaN</td>\n",
       "      <td>NaN</td>\n",
       "    </tr>\n",
       "  </tbody>\n",
       "</table>\n",
       "</div>"
      ],
      "text/plain": [
       "      userID      genre  early_access   reviewID  hours  \\\n",
       "0  u74382925  Adventure         False  r75487422    4.1   \n",
       "1  u76283959   Strategy          True  r47002764  235.1   \n",
       "2  u27203184     Action         False  r63957768   11.6   \n",
       "3  u39188474  Adventure         False  r78559045   18.9   \n",
       "4  u00273970     Action         False  r87488647  229.5   \n",
       "\n",
       "                                                text  genreID        date  \\\n",
       "0  Short Review:\\nA good starting chapter for thi...        3  2014-02-07   \n",
       "1  I think this is on my top 3 favirote TCGs of a...        1  2017-05-04   \n",
       "2  This is 10% suck\\n20% skill\\n15% concentrated ...        0  2015-12-30   \n",
       "3  This game is realy realy nice to play. it's hi...        3  2015-07-19   \n",
       "4  Los fans del erizo azul lo pidieron y aqui est...        0  2016-01-09   \n",
       "\n",
       "   found_funny user_id compensation  \n",
       "0          NaN     NaN          NaN  \n",
       "1          NaN     NaN          NaN  \n",
       "2        794.0     NaN          NaN  \n",
       "3          1.0     NaN          NaN  \n",
       "4          NaN     NaN          NaN  "
      ]
     },
     "execution_count": 6,
     "metadata": {},
     "output_type": "execute_result"
    }
   ],
   "source": [
    "original_df.head()"
   ]
  },
  {
   "cell_type": "code",
   "execution_count": 24,
   "metadata": {},
   "outputs": [],
   "source": [
    "col = ['genreID', 'text', 'genre']\n",
    "original_df = original_df[col]"
   ]
  },
  {
   "cell_type": "code",
   "execution_count": null,
   "metadata": {},
   "outputs": [],
   "source": [
    "for d in train:\n",
    "    t = d['text']\n",
    "    t = t.lower() # lowercase string\n",
    "    t = [c for c in t if not (c in punct)] # non-punct characters\n",
    "    t = ''.join(t) # convert back to string\n",
    "    words = t.strip().split() # tokenizes\n",
    "    for w in words:\n",
    "        #w = stemmer.stem(w)\n",
    "        totalWords += 1\n",
    "        wordCount[w] += 1"
   ]
  },
  {
   "cell_type": "code",
   "execution_count": 17,
   "metadata": {},
   "outputs": [
    {
     "name": "stderr",
     "output_type": "stream",
     "text": [
      "[nltk_data] Downloading package stopwords to /home/s1shen/nltk_data...\n",
      "[nltk_data]   Unzipping corpora/stopwords.zip.\n"
     ]
    },
    {
     "data": {
      "text/plain": [
       "True"
      ]
     },
     "execution_count": 17,
     "metadata": {},
     "output_type": "execute_result"
    }
   ],
   "source": [
    "import nltk\n",
    "nltk.download('stopwords')"
   ]
  },
  {
   "cell_type": "code",
   "execution_count": 25,
   "metadata": {},
   "outputs": [],
   "source": [
    "english_stop_words = set(stopwords.words(\"english\")) \n",
    "def message_cleaning(message):\n",
    "    Test_punc_removed = [char for char in message if char not in string.punctuation]\n",
    "    Test_punc_removed_join = ''.join(Test_punc_removed)\n",
    "    Test_punc_removed_join_clean = [word for word in Test_punc_removed_join.split() if word.lower() not in english_stop_words]\n",
    "    return ' '.join(Test_punc_removed_join_clean)\n",
    "\n",
    "original_df['text'] = original_df['text'].apply(message_cleaning)"
   ]
  },
  {
   "cell_type": "code",
   "execution_count": 26,
   "metadata": {},
   "outputs": [
    {
     "data": {
      "text/html": [
       "<div>\n",
       "<style scoped>\n",
       "    .dataframe tbody tr th:only-of-type {\n",
       "        vertical-align: middle;\n",
       "    }\n",
       "\n",
       "    .dataframe tbody tr th {\n",
       "        vertical-align: top;\n",
       "    }\n",
       "\n",
       "    .dataframe thead th {\n",
       "        text-align: right;\n",
       "    }\n",
       "</style>\n",
       "<table border=\"1\" class=\"dataframe\">\n",
       "  <thead>\n",
       "    <tr style=\"text-align: right;\">\n",
       "      <th></th>\n",
       "      <th>genreID</th>\n",
       "      <th>text</th>\n",
       "      <th>genre</th>\n",
       "    </tr>\n",
       "  </thead>\n",
       "  <tbody>\n",
       "    <tr>\n",
       "      <th>0</th>\n",
       "      <td>3</td>\n",
       "      <td>Short Review good starting chapter series desp...</td>\n",
       "      <td>Adventure</td>\n",
       "    </tr>\n",
       "    <tr>\n",
       "      <th>1</th>\n",
       "      <td>1</td>\n",
       "      <td>think top 3 favirote TCGs time wish added draw...</td>\n",
       "      <td>Strategy</td>\n",
       "    </tr>\n",
       "    <tr>\n",
       "      <th>2</th>\n",
       "      <td>0</td>\n",
       "      <td>10 suck 20 skill 15 concentrated power 5 pleas...</td>\n",
       "      <td>Action</td>\n",
       "    </tr>\n",
       "    <tr>\n",
       "      <th>3</th>\n",
       "      <td>3</td>\n",
       "      <td>game realy realy nice play hide seek adult hor...</td>\n",
       "      <td>Adventure</td>\n",
       "    </tr>\n",
       "    <tr>\n",
       "      <th>4</th>\n",
       "      <td>0</td>\n",
       "      <td>Los fans del erizo azul lo pidieron aqui esta ...</td>\n",
       "      <td>Action</td>\n",
       "    </tr>\n",
       "  </tbody>\n",
       "</table>\n",
       "</div>"
      ],
      "text/plain": [
       "   genreID                                               text      genre\n",
       "0        3  Short Review good starting chapter series desp...  Adventure\n",
       "1        1  think top 3 favirote TCGs time wish added draw...   Strategy\n",
       "2        0  10 suck 20 skill 15 concentrated power 5 pleas...     Action\n",
       "3        3  game realy realy nice play hide seek adult hor...  Adventure\n",
       "4        0  Los fans del erizo azul lo pidieron aqui esta ...     Action"
      ]
     },
     "execution_count": 26,
     "metadata": {},
     "output_type": "execute_result"
    }
   ],
   "source": [
    "original_df.head()"
   ]
  },
  {
   "cell_type": "code",
   "execution_count": 8,
   "metadata": {},
   "outputs": [],
   "source": [
    "from io import StringIO\n",
    "category_id_df = original_df[['genre', 'genreID']].drop_duplicates().sort_values('genreID')\n",
    "category_to_id = dict(category_id_df.values)\n",
    "id_to_category = dict(category_id_df[['genreID', 'genre']].values)"
   ]
  },
  {
   "cell_type": "code",
   "execution_count": 9,
   "metadata": {},
   "outputs": [],
   "source": [
    "testset = list(parseData(\"test_Category.json.gz\"))\n",
    "dftest = pd.DataFrame(testset)"
   ]
  },
  {
   "cell_type": "code",
   "execution_count": 33,
   "metadata": {},
   "outputs": [],
   "source": [
    "dftest['text'] = dftest['text'].apply(message_cleaning)"
   ]
  },
  {
   "cell_type": "code",
   "execution_count": 40,
   "metadata": {},
   "outputs": [],
   "source": [
    "split = 140000\n",
    "df = original_df[:split]"
   ]
  },
  {
   "cell_type": "code",
   "execution_count": 41,
   "metadata": {},
   "outputs": [],
   "source": [
    "df = original_df[:split]\n",
    "tfidf = TfidfVectorizer(sublinear_tf=True, min_df=5, norm='l2', encoding='latin-1', ngram_range=(1, 3), stop_words='english')\n",
    "features = tfidf.fit_transform(df.text).toarray()\n",
    "labels = df.genreID\n",
    "model = LinearSVC()\n",
    "model.fit(features, labels)\n",
    "text_features = tfidf.transform(dftest.text)\n",
    "predictions = model.predict(text_features)"
   ]
  },
  {
   "cell_type": "code",
   "execution_count": 18,
   "metadata": {},
   "outputs": [
    {
     "name": "stderr",
     "output_type": "stream",
     "text": [
      "/opt/conda/lib/python3.7/site-packages/sklearn/linear_model/logistic.py:432: FutureWarning: Default solver will be changed to 'lbfgs' in 0.22. Specify a solver to silence this warning.\n",
      "  FutureWarning)\n",
      "/opt/conda/lib/python3.7/site-packages/sklearn/linear_model/logistic.py:469: FutureWarning: Default multi_class will be changed to 'auto' in 0.22. Specify the multi_class option to silence this warning.\n",
      "  \"this warning.\", FutureWarning)\n"
     ]
    }
   ],
   "source": [
    "from sklearn.linear_model import LogisticRegression\n",
    "clf = LogisticRegression(random_state=0).fit(features, labels)\n",
    "predictions = clf.predict(text_features)"
   ]
  },
  {
   "cell_type": "code",
   "execution_count": 42,
   "metadata": {},
   "outputs": [],
   "source": [
    "fp = open(\"predictions_Category_14000_tg.txt\", 'w')\n",
    "fp.write(\"userID-reviewID,prediction\\n\")\n",
    "i = 0\n",
    "for d in testset:\n",
    "    fp.write(d['userID'] + '-' + d['reviewID'] + \",\" + str(predictions[i]) + \"\\n\")\n",
    "    i += 1\n",
    "\n",
    "fp.close()\n",
    "del tfidf, features, model, text_features, predictions"
   ]
  },
  {
   "cell_type": "code",
   "execution_count": null,
   "metadata": {},
   "outputs": [],
   "source": []
  }
 ],
 "metadata": {
  "kernelspec": {
   "display_name": "Python 3",
   "language": "python",
   "name": "python3"
  },
  "language_info": {
   "codemirror_mode": {
    "name": "ipython",
    "version": 3
   },
   "file_extension": ".py",
   "mimetype": "text/x-python",
   "name": "python",
   "nbconvert_exporter": "python",
   "pygments_lexer": "ipython3",
   "version": "3.7.3"
  }
 },
 "nbformat": 4,
 "nbformat_minor": 4
}
