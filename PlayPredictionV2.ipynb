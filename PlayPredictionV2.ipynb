{
 "cells": [
  {
   "cell_type": "code",
   "execution_count": 1,
   "metadata": {},
   "outputs": [],
   "source": [
    "import gzip\n",
    "from collections import defaultdict\n",
    "import random\n",
    "from tqdm import tqdm\n",
    "import numpy as np"
   ]
  },
  {
   "cell_type": "code",
   "execution_count": 2,
   "metadata": {},
   "outputs": [],
   "source": [
    "def readJSON(path):\n",
    "    for l in gzip.open(path, 'rt', encoding=\"utf8\"):\n",
    "        d = eval(l)\n",
    "        u = d['userID']\n",
    "        try:\n",
    "            g = d['gameID']\n",
    "        except Exception as e:\n",
    "            g = None\n",
    "        yield u,g,d\n",
    "\n",
    "def parseData(path):\n",
    "    for l in gzip.open(path, 'rt', encoding=\"utf8\"):\n",
    "        yield eval(l)\n",
    "\n",
    "dataset = list(parseData(\"train.json.gz\"))"
   ]
  },
  {
   "cell_type": "code",
   "execution_count": 3,
   "metadata": {},
   "outputs": [],
   "source": [
    "def Jaccard(s1, s2):\n",
    "    numer = len(s1.intersection(s2))\n",
    "    denom = len(s1.union(s2))\n",
    "    if denom > 0:\n",
    "        return numer/denom\n",
    "    return 0"
   ]
  },
  {
   "cell_type": "code",
   "execution_count": 6,
   "metadata": {},
   "outputs": [],
   "source": [
    "# Build the dictionaries as usual (directly from the whole dataset)\n",
    "usersPerGame, gamesPerUser = {}, {}\n",
    "for d in dataset:\n",
    "    if d['userID'] not in gamesPerUser:\n",
    "        gamesPerUser[d['userID']] = {d['gameID']}\n",
    "    else:\n",
    "        gamesPerUser[d['userID']].add(d['gameID'])\n",
    "    if d['gameID'] not in usersPerGame:\n",
    "        usersPerGame[d['gameID']] = {d['userID']}\n",
    "    else:\n",
    "        usersPerGame[d['gameID']].add(d['userID'])"
   ]
  },
  {
   "cell_type": "code",
   "execution_count": 7,
   "metadata": {},
   "outputs": [
    {
     "name": "stderr",
     "output_type": "stream",
     "text": [
      "20001it [00:06, 2953.73it/s]\n"
     ]
    }
   ],
   "source": [
    "Jac = {}  # A dictionary storing the jaccard similarity for each game that each user in the test set has played\n",
    "gamesPerUserPerGame = {}  # For each game g in the test set, union all the games played by the user who play that g\n",
    "\n",
    "for l in tqdm(open(\"pairs_Played.txt\")):\n",
    "    jacs = []\n",
    "    if l.startswith(\"userID\"):\n",
    "        # header\n",
    "        continue\n",
    "    u, g = l.strip().split('-')\n",
    "\n",
    "    if g not in gamesPerUserPerGame:\n",
    "        games_ = set({})\n",
    "        for user in usersPerGame[g]:\n",
    "            games_ = games_.union(gamesPerUser[user])\n",
    "        gamesPerUserPerGame[g] = games_\n",
    "    games = gamesPerUserPerGame[g]  # Make a copy for Jaccard Similarity later\n",
    "    \n",
    "    if u in usersPerGame:\n",
    "        # If the user has appeared in the training set before\n",
    "        for game in gamesPerUser[u]:\n",
    "            if game not in gamesPerUserPerGame:\n",
    "                games_ = set({})\n",
    "                for user in usersPerGame[game]:\n",
    "                    games_ = games_.union(gamesPerUser[user])\n",
    "                gamesPerUserPerGame[game] = games_\n",
    "            jac = Jaccard(games, gamesPerUserPerGame[game])\n",
    "            jacs.append(jac)\n",
    "        # Writing Jaccard results to the dictionary\n",
    "        if u not in Jac:\n",
    "            Jac[u] = {g:np.max(jacs)}\n",
    "        else:\n",
    "            Jac[u][g] = np.max(jacs)\n",
    "    else:\n",
    "        # Unknown User\n",
    "        if u not in Jac:\n",
    "            Jac[u] = {g:0}\n",
    "        else:\n",
    "            Jac[u][g] = 0"
   ]
  },
  {
   "cell_type": "code",
   "execution_count": 8,
   "metadata": {},
   "outputs": [],
   "source": [
    "import operator\n",
    "\n",
    "preds = {}\n",
    "for user in Jac.keys():\n",
    "    preds[user] = {}\n",
    "    \n",
    "    # Sort the Jaccard values for each user\n",
    "    sortedJac = sorted(Jac[user].items(), key=operator.itemgetter(1), reverse=True)\n",
    "    l = len(sortedJac)\n",
    "    for i in range(l):\n",
    "        # Predict Played for the first half\n",
    "        if i <= (l/2-1):\n",
    "            preds[user][sortedJac[i][0]] = 1\n",
    "        else:\n",
    "            preds[user][sortedJac[i][0]] = 0"
   ]
  },
  {
   "cell_type": "code",
   "execution_count": 9,
   "metadata": {},
   "outputs": [],
   "source": [
    "predictions = open(\"predictions_Played_A1.txt\", 'w')\n",
    "for l in open(\"pairs_Played.txt\"):\n",
    "    if l.startswith(\"userID\"):\n",
    "        # header\n",
    "        predictions.write(l)\n",
    "        continue\n",
    "    u, g = l.strip().split('-')\n",
    "    predictions.write(u + '-' + g + \",\" + str(preds[u][g]) + \"\\n\")\n",
    "    \n",
    "predictions.close()"
   ]
  }
 ],
 "metadata": {
  "kernelspec": {
   "display_name": "Python 3",
   "language": "python",
   "name": "python3"
  },
  "language_info": {
   "codemirror_mode": {
    "name": "ipython",
    "version": 3
   },
   "file_extension": ".py",
   "mimetype": "text/x-python",
   "name": "python",
   "nbconvert_exporter": "python",
   "pygments_lexer": "ipython3",
   "version": "3.6.7"
  }
 },
 "nbformat": 4,
 "nbformat_minor": 2
}
