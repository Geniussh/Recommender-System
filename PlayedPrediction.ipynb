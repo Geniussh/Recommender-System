{
 "cells": [
  {
   "cell_type": "code",
   "execution_count": 1,
   "metadata": {},
   "outputs": [],
   "source": [
    "import gzip\n",
    "from collections import defaultdict\n",
    "import random\n",
    "from tqdm import tqdm\n",
    "import numpy as np"
   ]
  },
  {
   "cell_type": "code",
   "execution_count": 2,
   "metadata": {},
   "outputs": [],
   "source": [
    "def readJSON(path):\n",
    "    for l in gzip.open(path, 'rt', encoding=\"utf8\"):\n",
    "        d = eval(l)\n",
    "        u = d['userID']\n",
    "        try:\n",
    "            g = d['gameID']\n",
    "        except Exception as e:\n",
    "            g = None\n",
    "        yield u,g,d"
   ]
  },
  {
   "cell_type": "code",
   "execution_count": 3,
   "metadata": {},
   "outputs": [],
   "source": [
    "def parseData(path):\n",
    "    for l in gzip.open(path, 'rt', encoding=\"utf8\"):\n",
    "        yield eval(l)\n",
    "dataset = list(parseData(\"train.json.gz\"))"
   ]
  },
  {
   "cell_type": "code",
   "execution_count": 156,
   "metadata": {},
   "outputs": [
    {
     "data": {
      "text/plain": [
       "{'hours': 0.3,\n",
       " 'gameID': 'b96045472',\n",
       " 'hours_transformed': 0.37851162325372983,\n",
       " 'early_access': False,\n",
       " 'date': '2015-04-08',\n",
       " 'text': '+1',\n",
       " 'userID': 'u01561183'}"
      ]
     },
     "execution_count": 156,
     "metadata": {},
     "output_type": "execute_result"
    }
   ],
   "source": [
    "dataset[0]"
   ]
  },
  {
   "cell_type": "markdown",
   "metadata": {},
   "source": [
    "## Question 1 {-}"
   ]
  },
  {
   "cell_type": "code",
   "execution_count": 4,
   "metadata": {},
   "outputs": [],
   "source": [
    "X = [[d['userID'], d['gameID']] for d in dataset]\n",
    "X_train = X[:165000]\n",
    "Y_train = [1] * len(X_train)\n",
    "X_valid = X[165000:]\n",
    "Y_valid = [1] * len(X_valid)"
   ]
  },
  {
   "cell_type": "code",
   "execution_count": 5,
   "metadata": {},
   "outputs": [],
   "source": [
    "usersPerGame = defaultdict(set)\n",
    "gamesPerUser = defaultdict(set)\n",
    "uniqueGames = set()\n",
    "for d in dataset:\n",
    "    uniqueGames.add(d['gameID'])\n",
    "    usersPerGame[d['gameID']].add(d['userID'])\n",
    "    gamesPerUser[d['userID']].add(d['gameID'])"
   ]
  },
  {
   "cell_type": "code",
   "execution_count": 6,
   "metadata": {
    "scrolled": false
   },
   "outputs": [],
   "source": [
    "users = [x[0] for x in X_valid]\n",
    "for user in users:\n",
    "    gamesNotPlayed = uniqueGames - gamesPerUser.get(user)\n",
    "    game = random.choice(list(gamesNotPlayed))\n",
    "    X_valid.append([user, game])\n",
    "    Y_valid.append(0)"
   ]
  },
  {
   "cell_type": "code",
   "execution_count": 74,
   "metadata": {},
   "outputs": [],
   "source": [
    "# Baseline\n",
    "gameCount = defaultdict(int)\n",
    "totalPlayed = 0\n",
    "\n",
    "for user,game,_ in readJSON(\"train.json.gz\"):\n",
    "    gameCount[game] += 1\n",
    "    totalPlayed += 1\n",
    "\n",
    "mostPopular = [(gameCount[x], x) for x in gameCount]\n",
    "mostPopular.sort()\n",
    "mostPopular.reverse()\n",
    "\n",
    "return1 = set()\n",
    "count = 0\n",
    "for ic, i in mostPopular:\n",
    "    count += ic\n",
    "    return1.add(i)\n",
    "    if count > totalPlayed/2: break\n",
    "\n",
    "prediction = []    \n",
    "for pair in X_valid:\n",
    "    if pair[1] in return1:\n",
    "        prediction.append(1)\n",
    "    else:\n",
    "        prediction.append(0)"
   ]
  },
  {
   "cell_type": "code",
   "execution_count": 77,
   "metadata": {},
   "outputs": [
    {
     "name": "stdout",
     "output_type": "stream",
     "text": [
      "Accuracy is: \n"
     ]
    },
    {
     "data": {
      "text/plain": [
       "0.68065"
      ]
     },
     "execution_count": 77,
     "metadata": {},
     "output_type": "execute_result"
    }
   ],
   "source": [
    "print(\"Accuracy is: \")\n",
    "sum(1 for x, y in zip(Y_valid, prediction) if x == y) / len(Y_valid)"
   ]
  },
  {
   "cell_type": "markdown",
   "metadata": {},
   "source": [
    "## Question 2 {-}"
   ]
  },
  {
   "cell_type": "code",
   "execution_count": 83,
   "metadata": {},
   "outputs": [],
   "source": [
    "# I try to find the optimal threshold by plotting the accuracy based on different thresholds\n",
    "gameCount = defaultdict(int)\n",
    "totalPlayed = 0\n",
    "\n",
    "for user,game,_ in readJSON(\"train.json.gz\"):\n",
    "    gameCount[game] += 1\n",
    "    totalPlayed += 1\n",
    "\n",
    "mostPopular = [(gameCount[x], x) for x in gameCount]\n",
    "mostPopular.sort()\n",
    "mostPopular.reverse()\n",
    "\n",
    "return1 = set()\n",
    "count = 0\n",
    "thres = 0.01\n",
    "accuracies = []\n",
    "\n",
    "for _ in range(100):\n",
    "    for ic, i in mostPopular:\n",
    "        count += ic\n",
    "        return1.add(i)\n",
    "        if count > totalPlayed * thres: break\n",
    "\n",
    "    prediction = []    \n",
    "    for pair in X_valid:\n",
    "        if pair[1] in return1:\n",
    "            prediction.append(1)\n",
    "        else:\n",
    "            prediction.append(0)\n",
    "    \n",
    "    accuracy = sum(1 for x, y in zip(Y_valid, prediction) if x == y) / len(Y_valid)\n",
    "    accuracies.append([thres, accuracy])\n",
    "    \n",
    "    return1 = set()\n",
    "    count = 0\n",
    "    thres = thres + 0.01"
   ]
  },
  {
   "cell_type": "code",
   "execution_count": 86,
   "metadata": {},
   "outputs": [
    {
     "data": {
      "text/plain": [
       "[<matplotlib.lines.Line2D at 0x1bf1b78b198>]"
      ]
     },
     "execution_count": 86,
     "metadata": {},
     "output_type": "execute_result"
    },
    {
     "data": {
      "image/png": "[encoded data removed]",
      "text/plain": [
       "<Figure size 432x288 with 1 Axes>"
      ]
     },
     "metadata": {
      "image/png": {
       "height": 248,
       "width": 384
      },
      "needs_background": "light"
     },
     "output_type": "display_data"
    }
   ],
   "source": [
    "import matplotlib.pyplot as plt\n",
    "%config InlineBackend.figure_format = 'retina'\n",
    "%matplotlib inline\n",
    "thres_list = [a[0] for a in accuracies]\n",
    "accuracy_list = [a[1] for a in accuracies]\n",
    "plt.plot(thres_list, accuracy_list)"
   ]
  },
  {
   "cell_type": "code",
   "execution_count": 91,
   "metadata": {},
   "outputs": [
    {
     "name": "stdout",
     "output_type": "stream",
     "text": [
      "The best threshold is\n",
      "0.6800000000000004\n",
      "With accuracy of 0.69895\n"
     ]
    }
   ],
   "source": [
    "best_accuracy = max(accuracy_list)\n",
    "print(\"The best threshold is\")\n",
    "print(thres_list[accuracy_list.index(best_accuracy)])\n",
    "print(\"With accuracy of \" + str(best_accuracy))"
   ]
  },
  {
   "cell_type": "markdown",
   "metadata": {},
   "source": [
    "### Question 3 {-}"
   ]
  },
  {
   "cell_type": "code",
   "execution_count": 7,
   "metadata": {},
   "outputs": [],
   "source": [
    "def Jaccard(s1, s2):\n",
    "    numer = len(s1.intersection(s2))\n",
    "    denom = len(s1.union(s2))\n",
    "    return numer / denom"
   ]
  },
  {
   "cell_type": "code",
   "execution_count": 8,
   "metadata": {},
   "outputs": [],
   "source": [
    "def mostSimilar(u, g):\n",
    "    similarities = []\n",
    "    games = gamesPerUser[u]\n",
    "    for g2 in games:\n",
    "        if g2 == g: continue\n",
    "        sim = Jaccard(usersPerGame[g], usersPerGame[g2])\n",
    "        similarities.append((sim,g2))\n",
    "    similarities.sort(reverse=True)\n",
    "    return similarities"
   ]
  },
  {
   "cell_type": "code",
   "execution_count": 106,
   "metadata": {
    "collapsed": true
   },
   "outputs": [
    {
     "name": "stdout",
     "output_type": "stream",
     "text": [
      "0.002\n",
      "0.003\n",
      "0.004\n",
      "0.005\n",
      "0.006\n",
      "0.007\n",
      "0.008\n",
      "0.009000000000000001\n",
      "0.010000000000000002\n",
      "0.011000000000000003\n",
      "0.012000000000000004\n",
      "0.013000000000000005\n",
      "0.014000000000000005\n",
      "0.015000000000000006\n",
      "0.016000000000000007\n",
      "0.017000000000000008\n",
      "0.01800000000000001\n",
      "0.01900000000000001\n",
      "0.02000000000000001\n",
      "0.02100000000000001\n",
      "0.022000000000000013\n",
      "0.023000000000000013\n",
      "0.024000000000000014\n",
      "0.025000000000000015\n",
      "0.026000000000000016\n",
      "0.027000000000000017\n",
      "0.028000000000000018\n",
      "0.02900000000000002\n",
      "0.03000000000000002\n",
      "0.03100000000000002\n",
      "0.03200000000000002\n",
      "0.03300000000000002\n",
      "0.03400000000000002\n",
      "0.035000000000000024\n",
      "0.036000000000000025\n",
      "0.037000000000000026\n",
      "0.03800000000000003\n",
      "0.03900000000000003\n",
      "0.04000000000000003\n",
      "0.04100000000000003\n",
      "0.04200000000000003\n",
      "0.04300000000000003\n",
      "0.04400000000000003\n",
      "0.04500000000000003\n",
      "0.046000000000000034\n",
      "0.047000000000000035\n",
      "0.048000000000000036\n",
      "0.04900000000000004\n",
      "0.05000000000000004\n",
      "0.05100000000000004\n",
      "0.05200000000000004\n",
      "0.05300000000000004\n",
      "0.05400000000000004\n",
      "0.05500000000000004\n",
      "0.05600000000000004\n",
      "0.057000000000000044\n",
      "0.058000000000000045\n",
      "0.059000000000000045\n",
      "0.060000000000000046\n",
      "0.06100000000000005\n",
      "0.06200000000000005\n",
      "0.06300000000000004\n",
      "0.06400000000000004\n",
      "0.06500000000000004\n",
      "0.06600000000000004\n",
      "0.06700000000000005\n",
      "0.06800000000000005\n",
      "0.06900000000000005\n",
      "0.07000000000000005\n",
      "0.07100000000000005\n",
      "0.07200000000000005\n",
      "0.07300000000000005\n",
      "0.07400000000000005\n",
      "0.07500000000000005\n",
      "0.07600000000000005\n",
      "0.07700000000000005\n",
      "0.07800000000000006\n",
      "0.07900000000000006\n",
      "0.08000000000000006\n",
      "0.08100000000000006\n",
      "0.08200000000000006\n",
      "0.08300000000000006\n",
      "0.08400000000000006\n",
      "0.08500000000000006\n",
      "0.08600000000000006\n",
      "0.08700000000000006\n",
      "0.08800000000000006\n",
      "0.08900000000000007\n",
      "0.09000000000000007\n",
      "0.09100000000000007\n",
      "0.09200000000000007\n",
      "0.09300000000000007\n",
      "0.09400000000000007\n",
      "0.09500000000000007\n",
      "0.09600000000000007\n",
      "0.09700000000000007\n",
      "0.09800000000000007\n",
      "0.09900000000000007\n",
      "0.10000000000000007\n",
      "0.10100000000000008\n"
     ]
    }
   ],
   "source": [
    "accuracies = []\n",
    "thres = 0.001\n",
    "\n",
    "for _ in range(100):\n",
    "    preds = []  \n",
    "    \n",
    "    for pair in X_valid:\n",
    "        mostSim = mostSimilar(pair[0], pair[1])[0]\n",
    "        \n",
    "        if mostSim >= thres:\n",
    "            preds.append(1)\n",
    "        else:\n",
    "            preds.append(0)\n",
    "    \n",
    "    accuracy = sum(1 for x, y in zip(Y_valid, preds) if x == y) / len(Y_valid)\n",
    "    accuracies.append([thres, accuracy])\n",
    "    thres = thres + 0.001\n",
    "    print(thres)"
   ]
  },
  {
   "cell_type": "code",
   "execution_count": 107,
   "metadata": {},
   "outputs": [
    {
     "data": {
      "text/plain": [
       "[<matplotlib.lines.Line2D at 0x1bf1b80d630>]"
      ]
     },
     "execution_count": 107,
     "metadata": {},
     "output_type": "execute_result"
    },
    {
     "data": {
      "image/png": "[encoded data removed]",
      "text/plain": [
       "<Figure size 432x288 with 1 Axes>"
      ]
     },
     "metadata": {
      "image/png": {
       "height": 248,
       "width": 378
      },
      "needs_background": "light"
     },
     "output_type": "display_data"
    }
   ],
   "source": [
    "thres_list = [a[0] for a in accuracies]\n",
    "accuracy_list = [a[1] for a in accuracies]\n",
    "plt.plot(thres_list, accuracy_list)"
   ]
  },
  {
   "cell_type": "code",
   "execution_count": 108,
   "metadata": {},
   "outputs": [
    {
     "name": "stdout",
     "output_type": "stream",
     "text": [
      "The best threshold is\n",
      "0.03300000000000002\n",
      "With accuracy of 0.76705\n"
     ]
    }
   ],
   "source": [
    "best_accuracy = max(accuracy_list)\n",
    "print(\"The best threshold is\")\n",
    "print(thres_list[accuracy_list.index(best_accuracy)])\n",
    "print(\"With accuracy of \" + str(best_accuracy))"
   ]
  },
  {
   "cell_type": "markdown",
   "metadata": {},
   "source": [
    "## Question 4 {-}"
   ]
  },
  {
   "cell_type": "code",
   "execution_count": 9,
   "metadata": {},
   "outputs": [],
   "source": [
    "def getPopularityPred(X, thres):\n",
    "    gameCount = defaultdict(int)\n",
    "    totalPlayed = 0\n",
    "    for user,game,_ in readJSON(\"train.json.gz\"):\n",
    "        gameCount[game] += 1\n",
    "        totalPlayed += 1\n",
    "    mostPopular = [(gameCount[x], x) for x in gameCount]\n",
    "    mostPopular.sort()\n",
    "    mostPopular.reverse()\n",
    "    return1 = set()\n",
    "    count = 0\n",
    "    preds = []\n",
    "    for ic, i in mostPopular:\n",
    "        count += ic\n",
    "        return1.add(i)\n",
    "        if count > totalPlayed * thres: break\n",
    "    for pair in X:\n",
    "        if pair[1] in return1:\n",
    "            preds.append(1)\n",
    "        else:\n",
    "            preds.append(0)\n",
    "    return preds"
   ]
  },
  {
   "cell_type": "code",
   "execution_count": 10,
   "metadata": {},
   "outputs": [],
   "source": [
    "def getJaccardPred(X, thres):\n",
    "    preds = []  \n",
    "    for pair in X:\n",
    "        mostSim = mostSimilar(pair[0], pair[1])\n",
    "        if mostSim and mostSim[0][0] >= thres:\n",
    "            preds.append(1)\n",
    "        else:\n",
    "            preds.append(0)\n",
    "    return preds"
   ]
  },
  {
   "cell_type": "code",
   "execution_count": 152,
   "metadata": {},
   "outputs": [
    {
     "name": "stderr",
     "output_type": "stream",
     "text": [
      "  2%|▊                                       | 1/50 [11:20<9:15:46, 680.54s/it]\n"
     ]
    },
    {
     "ename": "KeyboardInterrupt",
     "evalue": "",
     "output_type": "error",
     "traceback": [
      "\u001b[1;31m---------------------------------------------------------------------------\u001b[0m",
      "\u001b[1;31mKeyboardInterrupt\u001b[0m                         Traceback (most recent call last)",
      "\u001b[1;32m<ipython-input-152-c8bde7565f66>\u001b[0m in \u001b[0;36m<module>\u001b[1;34m\u001b[0m\n\u001b[0;32m      5\u001b[0m     \u001b[0mpops\u001b[0m \u001b[1;33m=\u001b[0m \u001b[0mgetPopularityPred\u001b[0m\u001b[1;33m(\u001b[0m\u001b[0mX_valid\u001b[0m\u001b[1;33m,\u001b[0m \u001b[0mpop_thres\u001b[0m\u001b[1;33m)\u001b[0m\u001b[1;33m\u001b[0m\u001b[1;33m\u001b[0m\u001b[0m\n\u001b[0;32m      6\u001b[0m     \u001b[1;32mfor\u001b[0m \u001b[0mjac_thres\u001b[0m \u001b[1;32min\u001b[0m \u001b[0mnp\u001b[0m\u001b[1;33m.\u001b[0m\u001b[0marange\u001b[0m\u001b[1;33m(\u001b[0m\u001b[1;36m0.02\u001b[0m\u001b[1;33m,\u001b[0m \u001b[1;36m0.05\u001b[0m\u001b[1;33m,\u001b[0m \u001b[1;36m0.001\u001b[0m\u001b[1;33m)\u001b[0m\u001b[1;33m:\u001b[0m\u001b[1;33m\u001b[0m\u001b[1;33m\u001b[0m\u001b[0m\n\u001b[1;32m----> 7\u001b[1;33m         \u001b[0mjaccards\u001b[0m \u001b[1;33m=\u001b[0m \u001b[0mgetJaccardPred\u001b[0m\u001b[1;33m(\u001b[0m\u001b[0mX_valid\u001b[0m\u001b[1;33m,\u001b[0m \u001b[0mjac_thres\u001b[0m\u001b[1;33m)\u001b[0m\u001b[1;33m\u001b[0m\u001b[1;33m\u001b[0m\u001b[0m\n\u001b[0m\u001b[0;32m      8\u001b[0m         \u001b[0mcombined_preds1\u001b[0m \u001b[1;33m=\u001b[0m \u001b[1;33m[\u001b[0m\u001b[1;33m]\u001b[0m\u001b[1;33m\u001b[0m\u001b[1;33m\u001b[0m\u001b[0m\n\u001b[0;32m      9\u001b[0m         \u001b[0mcombined_preds2\u001b[0m \u001b[1;33m=\u001b[0m \u001b[1;33m[\u001b[0m\u001b[1;33m]\u001b[0m\u001b[1;33m\u001b[0m\u001b[1;33m\u001b[0m\u001b[0m\n",
      "\u001b[1;32m<ipython-input-150-84f7b501176e>\u001b[0m in \u001b[0;36mgetJaccardPred\u001b[1;34m(X, thres)\u001b[0m\n\u001b[0;32m      2\u001b[0m     \u001b[0mpreds\u001b[0m \u001b[1;33m=\u001b[0m \u001b[1;33m[\u001b[0m\u001b[1;33m]\u001b[0m\u001b[1;33m\u001b[0m\u001b[1;33m\u001b[0m\u001b[0m\n\u001b[0;32m      3\u001b[0m     \u001b[1;32mfor\u001b[0m \u001b[0mpair\u001b[0m \u001b[1;32min\u001b[0m \u001b[0mX\u001b[0m\u001b[1;33m:\u001b[0m\u001b[1;33m\u001b[0m\u001b[1;33m\u001b[0m\u001b[0m\n\u001b[1;32m----> 4\u001b[1;33m         \u001b[0mmostSim\u001b[0m \u001b[1;33m=\u001b[0m \u001b[0mmostSimilar\u001b[0m\u001b[1;33m(\u001b[0m\u001b[0mpair\u001b[0m\u001b[1;33m[\u001b[0m\u001b[1;36m0\u001b[0m\u001b[1;33m]\u001b[0m\u001b[1;33m,\u001b[0m \u001b[0mpair\u001b[0m\u001b[1;33m[\u001b[0m\u001b[1;36m1\u001b[0m\u001b[1;33m]\u001b[0m\u001b[1;33m)\u001b[0m\u001b[1;33m\u001b[0m\u001b[1;33m\u001b[0m\u001b[0m\n\u001b[0m\u001b[0;32m      5\u001b[0m         \u001b[1;32mif\u001b[0m \u001b[0mmostSim\u001b[0m \u001b[1;32mand\u001b[0m \u001b[0mmostSim\u001b[0m\u001b[1;33m[\u001b[0m\u001b[1;36m0\u001b[0m\u001b[1;33m]\u001b[0m\u001b[1;33m[\u001b[0m\u001b[1;36m0\u001b[0m\u001b[1;33m]\u001b[0m \u001b[1;33m>=\u001b[0m \u001b[0mthres\u001b[0m\u001b[1;33m:\u001b[0m\u001b[1;33m\u001b[0m\u001b[1;33m\u001b[0m\u001b[0m\n\u001b[0;32m      6\u001b[0m             \u001b[0mpreds\u001b[0m\u001b[1;33m.\u001b[0m\u001b[0mappend\u001b[0m\u001b[1;33m(\u001b[0m\u001b[1;36m1\u001b[0m\u001b[1;33m)\u001b[0m\u001b[1;33m\u001b[0m\u001b[1;33m\u001b[0m\u001b[0m\n",
      "\u001b[1;32m<ipython-input-143-b40807de580d>\u001b[0m in \u001b[0;36mmostSimilar\u001b[1;34m(u, g)\u001b[0m\n\u001b[0;32m      4\u001b[0m     \u001b[1;32mfor\u001b[0m \u001b[0mg2\u001b[0m \u001b[1;32min\u001b[0m \u001b[0mgames\u001b[0m\u001b[1;33m:\u001b[0m\u001b[1;33m\u001b[0m\u001b[1;33m\u001b[0m\u001b[0m\n\u001b[0;32m      5\u001b[0m         \u001b[1;32mif\u001b[0m \u001b[0mg2\u001b[0m \u001b[1;33m==\u001b[0m \u001b[0mg\u001b[0m\u001b[1;33m:\u001b[0m \u001b[1;32mcontinue\u001b[0m\u001b[1;33m\u001b[0m\u001b[1;33m\u001b[0m\u001b[0m\n\u001b[1;32m----> 6\u001b[1;33m         \u001b[0msim\u001b[0m \u001b[1;33m=\u001b[0m \u001b[0mJaccard\u001b[0m\u001b[1;33m(\u001b[0m\u001b[0musersPerGame\u001b[0m\u001b[1;33m[\u001b[0m\u001b[0mg\u001b[0m\u001b[1;33m]\u001b[0m\u001b[1;33m,\u001b[0m \u001b[0musersPerGame\u001b[0m\u001b[1;33m[\u001b[0m\u001b[0mg2\u001b[0m\u001b[1;33m]\u001b[0m\u001b[1;33m)\u001b[0m\u001b[1;33m\u001b[0m\u001b[1;33m\u001b[0m\u001b[0m\n\u001b[0m\u001b[0;32m      7\u001b[0m         \u001b[0msimilarities\u001b[0m\u001b[1;33m.\u001b[0m\u001b[0mappend\u001b[0m\u001b[1;33m(\u001b[0m\u001b[1;33m(\u001b[0m\u001b[0msim\u001b[0m\u001b[1;33m,\u001b[0m\u001b[0mg2\u001b[0m\u001b[1;33m)\u001b[0m\u001b[1;33m)\u001b[0m\u001b[1;33m\u001b[0m\u001b[1;33m\u001b[0m\u001b[0m\n\u001b[0;32m      8\u001b[0m     \u001b[0msimilarities\u001b[0m\u001b[1;33m.\u001b[0m\u001b[0msort\u001b[0m\u001b[1;33m(\u001b[0m\u001b[0mreverse\u001b[0m\u001b[1;33m=\u001b[0m\u001b[1;32mTrue\u001b[0m\u001b[1;33m)\u001b[0m\u001b[1;33m\u001b[0m\u001b[1;33m\u001b[0m\u001b[0m\n",
      "\u001b[1;32m<ipython-input-93-1d43a5daf4f4>\u001b[0m in \u001b[0;36mJaccard\u001b[1;34m(s1, s2)\u001b[0m\n\u001b[0;32m      1\u001b[0m \u001b[1;32mdef\u001b[0m \u001b[0mJaccard\u001b[0m\u001b[1;33m(\u001b[0m\u001b[0ms1\u001b[0m\u001b[1;33m,\u001b[0m \u001b[0ms2\u001b[0m\u001b[1;33m)\u001b[0m\u001b[1;33m:\u001b[0m\u001b[1;33m\u001b[0m\u001b[1;33m\u001b[0m\u001b[0m\n\u001b[1;32m----> 2\u001b[1;33m     \u001b[0mnumer\u001b[0m \u001b[1;33m=\u001b[0m \u001b[0mlen\u001b[0m\u001b[1;33m(\u001b[0m\u001b[0ms1\u001b[0m\u001b[1;33m.\u001b[0m\u001b[0mintersection\u001b[0m\u001b[1;33m(\u001b[0m\u001b[0ms2\u001b[0m\u001b[1;33m)\u001b[0m\u001b[1;33m)\u001b[0m\u001b[1;33m\u001b[0m\u001b[1;33m\u001b[0m\u001b[0m\n\u001b[0m\u001b[0;32m      3\u001b[0m     \u001b[0mdenom\u001b[0m \u001b[1;33m=\u001b[0m \u001b[0mlen\u001b[0m\u001b[1;33m(\u001b[0m\u001b[0ms1\u001b[0m\u001b[1;33m.\u001b[0m\u001b[0munion\u001b[0m\u001b[1;33m(\u001b[0m\u001b[0ms2\u001b[0m\u001b[1;33m)\u001b[0m\u001b[1;33m)\u001b[0m\u001b[1;33m\u001b[0m\u001b[1;33m\u001b[0m\u001b[0m\n\u001b[0;32m      4\u001b[0m     \u001b[1;32mreturn\u001b[0m \u001b[0mnumer\u001b[0m \u001b[1;33m/\u001b[0m \u001b[0mdenom\u001b[0m\u001b[1;33m\u001b[0m\u001b[1;33m\u001b[0m\u001b[0m\n",
      "\u001b[1;31mKeyboardInterrupt\u001b[0m: "
     ]
    }
   ],
   "source": [
    "# Combined Model\n",
    "accuracies1 = []\n",
    "accuracies2 = []\n",
    "for pop_thres in tqdm(np.arange(0.4, 0.85, 0.01)):\n",
    "    pops = getPopularityPred(X_valid, pop_thres)\n",
    "    for jac_thres in np.arange(0.024, 0.044, 0.002):\n",
    "        jaccards = getJaccardPred(X_valid, jac_thres)\n",
    "        combined_preds1 = []\n",
    "        combined_preds2 = []\n",
    "\n",
    "        for p_pred, j_pred in zip(pops, jaccards):\n",
    "            if p_pred == j_pred:\n",
    "                combined_preds1.append(p_pred)\n",
    "                combined_preds2.append(p_pred)\n",
    "            elif p_pred > j_pred:\n",
    "                combined_preds1.append(p_pred)\n",
    "                combined_preds2.append(j_pred)\n",
    "            else:\n",
    "                combined_preds1.append(j_pred)\n",
    "                combined_preds2.append(p_pred)\n",
    "\n",
    "        accuracy1 = sum(1 for x, y in zip(Y_valid, combined_preds1) if x == y) / len(Y_valid)\n",
    "        accuracies1.append([accuracy1, pop_thres, jac_thres])\n",
    "        accuracy2 = sum(1 for x, y in zip(Y_valid, combined_preds2) if x == y) / len(Y_valid)\n",
    "        accuracies2.append([accuracy2, pop_thres, jac_thres])"
   ]
  },
  {
   "cell_type": "code",
   "execution_count": 140,
   "metadata": {},
   "outputs": [
    {
     "name": "stdout",
     "output_type": "stream",
     "text": [
      "The accuracy of the combined model on validation set is 0.74945\n"
     ]
    }
   ],
   "source": [
    "print(\"The accuracy of the combined model on validation set is \" + str(accuracy))"
   ]
  },
  {
   "cell_type": "markdown",
   "metadata": {},
   "source": [
    "## Question 5 {-}"
   ]
  },
  {
   "cell_type": "markdown",
   "metadata": {},
   "source": [
    "#### Kaggle Username: KelvinSh {-}"
   ]
  },
  {
   "cell_type": "code",
   "execution_count": 20,
   "metadata": {},
   "outputs": [],
   "source": [
    "X_test = []\n",
    "predictions = open(\"predictions_Played.txt\", 'w')\n",
    "for l in open(\"pairs_Played.txt\"):\n",
    "    if l.startswith(\"userID\"):\n",
    "        #header\n",
    "        predictions.write(l)\n",
    "        continue\n",
    "    u,g = l.strip().split('-')\n",
    "    X_test.append([u,g,-1])\n",
    "    \n",
    "pops = getPopularityPred(X_test, 0.79)\n",
    "jaccards = getJaccardPred(X_test, 0.027)\n",
    "combined_preds = []\n",
    "\n",
    "for p_pred, j_pred in zip(pops, jaccards):\n",
    "    if p_pred == j_pred:\n",
    "        combined_preds.append(p_pred)\n",
    "    elif p_pred > j_pred:\n",
    "        combined_preds.append(j_pred)\n",
    "    else:\n",
    "        combined_preds.append(p_pred)\n",
    "\n",
    "for pair, y in zip(X_test, combined_preds):\n",
    "    predictions.write(pair[0] + '-' + pair[1] + \",\" + str(y) + \"\\n\")\n",
    "    \n",
    "predictions.close()"
   ]
  },
  {
   "cell_type": "code",
   "execution_count": 1,
   "metadata": {},
   "outputs": [
    {
     "name": "stdout",
     "output_type": "stream",
     "text": [
      "Stored 'a' (int)\n"
     ]
    }
   ],
   "source": [
    "a = 5\n",
    "%store a"
   ]
  }
 ],
 "metadata": {
  "kernelspec": {
   "display_name": "Python 3",
   "language": "python",
   "name": "python3"
  },
  "language_info": {
   "codemirror_mode": {
    "name": "ipython",
    "version": 3
   },
   "file_extension": ".py",
   "mimetype": "text/x-python",
   "name": "python",
   "nbconvert_exporter": "python",
   "pygments_lexer": "ipython3",
   "version": "3.6.7"
  }
 },
 "nbformat": 4,
 "nbformat_minor": 2
}
